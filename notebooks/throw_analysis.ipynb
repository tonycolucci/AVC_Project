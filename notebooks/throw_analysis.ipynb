{
 "cells": [
  {
   "cell_type": "code",
   "execution_count": 1,
   "metadata": {},
   "outputs": [],
   "source": [
    "import pandas as pd\n",
    "import numpy as np\n",
    "import sklearn\n",
    "from sklearn.linear_model import LogisticRegressionCV\n",
    "from sklearn.preprocessing import OneHotEncoder\n",
    "\n",
    "import pickle"
   ]
  },
  {
   "cell_type": "code",
   "execution_count": 2,
   "metadata": {},
   "outputs": [
    {
     "data": {
      "text/html": [
       "<div>\n",
       "<style scoped>\n",
       "    .dataframe tbody tr th:only-of-type {\n",
       "        vertical-align: middle;\n",
       "    }\n",
       "\n",
       "    .dataframe tbody tr th {\n",
       "        vertical-align: top;\n",
       "    }\n",
       "\n",
       "    .dataframe thead th {\n",
       "        text-align: right;\n",
       "    }\n",
       "</style>\n",
       "<table border=\"1\" class=\"dataframe\">\n",
       "  <thead>\n",
       "    <tr style=\"text-align: right;\">\n",
       "      <th></th>\n",
       "      <th>Xdist</th>\n",
       "      <th>Ydist</th>\n",
       "      <th>backhand</th>\n",
       "      <th>forehand</th>\n",
       "      <th>hammer</th>\n",
       "      <th>completion</th>\n",
       "    </tr>\n",
       "  </thead>\n",
       "  <tbody>\n",
       "    <tr>\n",
       "      <th>0</th>\n",
       "      <td>8.0</td>\n",
       "      <td>0.0</td>\n",
       "      <td>1</td>\n",
       "      <td>0</td>\n",
       "      <td>0</td>\n",
       "      <td>1.0</td>\n",
       "    </tr>\n",
       "    <tr>\n",
       "      <th>1</th>\n",
       "      <td>-1.0</td>\n",
       "      <td>16.0</td>\n",
       "      <td>1</td>\n",
       "      <td>0</td>\n",
       "      <td>0</td>\n",
       "      <td>1.0</td>\n",
       "    </tr>\n",
       "    <tr>\n",
       "      <th>2</th>\n",
       "      <td>7.0</td>\n",
       "      <td>9.0</td>\n",
       "      <td>1</td>\n",
       "      <td>0</td>\n",
       "      <td>0</td>\n",
       "      <td>1.0</td>\n",
       "    </tr>\n",
       "    <tr>\n",
       "      <th>3</th>\n",
       "      <td>14.0</td>\n",
       "      <td>4.0</td>\n",
       "      <td>1</td>\n",
       "      <td>0</td>\n",
       "      <td>0</td>\n",
       "      <td>1.0</td>\n",
       "    </tr>\n",
       "    <tr>\n",
       "      <th>4</th>\n",
       "      <td>-12.0</td>\n",
       "      <td>-4.0</td>\n",
       "      <td>0</td>\n",
       "      <td>1</td>\n",
       "      <td>0</td>\n",
       "      <td>1.0</td>\n",
       "    </tr>\n",
       "  </tbody>\n",
       "</table>\n",
       "</div>"
      ],
      "text/plain": [
       "   Xdist  Ydist  backhand  forehand  hammer  completion\n",
       "0    8.0    0.0         1         0       0         1.0\n",
       "1   -1.0   16.0         1         0       0         1.0\n",
       "2    7.0    9.0         1         0       0         1.0\n",
       "3   14.0    4.0         1         0       0         1.0\n",
       "4  -12.0   -4.0         0         1       0         1.0"
      ]
     },
     "execution_count": 2,
     "metadata": {},
     "output_type": "execute_result"
    }
   ],
   "source": [
    "throws = pd.read_csv(\"../data/throws_clean.csv\")\n",
    "\n",
    "\n",
    "# print(throws.head())\n",
    "throw_types = pd.get_dummies(throws.throw_type).rename(columns = {\"BH\":\"backhand\",\"F\":\"forehand\",\"H\":\"hammer\"})\n",
    "\n",
    "throw_analysis = pd.concat([throws,throw_types], axis = 1)[[\"Xdist\",\"Ydist\",\"backhand\",\"forehand\",\"hammer\",\"completion\"]].dropna()\n",
    "\n",
    "\n",
    "# throws = pd.concat(throws)\n",
    "\n",
    "# print(throw_types)\n",
    "\n",
    "\n",
    "throw_analysis.head()"
   ]
  },
  {
   "cell_type": "code",
   "execution_count": 3,
   "metadata": {},
   "outputs": [
    {
     "name": "stdout",
     "output_type": "stream",
     "text": [
      "      completion\n",
      "427          1.0\n",
      "1042         1.0\n",
      "115          1.0\n",
      "923          1.0\n",
      "1681         1.0\n",
      "      Xdist  Ydist  backhand  forehand  hammer\n",
      "427    -2.0   17.0         1         0       0\n",
      "1042    9.0   -8.0         1         0       0\n",
      "115     6.0  -15.0         0         1       0\n",
      "923    -5.0   -3.0         1         0       0\n",
      "1681   15.0   19.0         1         0       0\n"
     ]
    }
   ],
   "source": [
    "def split_data(data, train_share = 0.8, response_col = \"completion\", random_state = 0):\n",
    "    feature_cols = data.drop(columns = response_col)\n",
    "    response = data[[response_col]]\n",
    "    X_train, X_test, y_train, y_test = sklearn.model_selection.train_test_split(feature_cols, response,\n",
    "                                                                                train_size=train_share,\n",
    "                                                                                random_state=random_state)\n",
    "    return X_train, X_test, y_train, y_test\n",
    "\n",
    "X_train, X_test, y_train, y_test = split_data(throw_analysis)\n",
    "\n",
    "print(y_train.head())\n",
    "print(X_train.head())"
   ]
  },
  {
   "cell_type": "code",
   "execution_count": 10,
   "metadata": {},
   "outputs": [
    {
     "name": "stderr",
     "output_type": "stream",
     "text": [
      "C:\\Users\\tonyc\\Anaconda3\\lib\\site-packages\\sklearn\\utils\\validation.py:724: DataConversionWarning: A column-vector y was passed when a 1d array was expected. Please change the shape of y to (n_samples, ), for example using ravel().\n",
      "  y = column_or_1d(y, warn=True)\n"
     ]
    },
    {
     "name": "stdout",
     "output_type": "stream",
     "text": [
      "[[-0.0432752  -0.00434164  0.00090446 -0.00058814 -0.0002214 ]]\n"
     ]
    }
   ],
   "source": [
    "def train_model(X_train, X_test, y_train, y_test):\n",
    "    logistic = LogisticRegressionCV(cv = 10).fit(X_train, y_train)\n",
    "    \n",
    "    \n",
    "    print(logistic.coef_)\n",
    "    \n",
    "    out = logistic.predict_proba(X_test)\n",
    "    return logistic\n",
    "\n",
    "model = train_model(X_train, X_test, y_train, y_test)"
   ]
  },
  {
   "cell_type": "code",
   "execution_count": 17,
   "metadata": {},
   "outputs": [
    {
     "data": {
      "text/plain": [
       "array([[0.11216746, 0.88783254]])"
      ]
     },
     "execution_count": 17,
     "metadata": {},
     "output_type": "execute_result"
    }
   ],
   "source": [
    "user_input = pd.DataFrame(data={ \"Xdist\":[30.0], \"Ydist\":[-5.0], \"backhand\":[0], \"forehand\":[1], \"hammer\":[0]})\n",
    "\n",
    "model.predict_proba(user_input)"
   ]
  }
 ],
 "metadata": {
  "kernelspec": {
   "display_name": "Python 3",
   "language": "python",
   "name": "python3"
  },
  "language_info": {
   "codemirror_mode": {
    "name": "ipython",
    "version": 3
   },
   "file_extension": ".py",
   "mimetype": "text/x-python",
   "name": "python",
   "nbconvert_exporter": "python",
   "pygments_lexer": "ipython3",
   "version": "3.7.1"
  }
 },
 "nbformat": 4,
 "nbformat_minor": 2
}
