{
 "cells": [
  {
   "cell_type": "code",
   "execution_count": 1,
   "metadata": {},
   "outputs": [],
   "source": [
    "import pandas as pd\n",
    "import numpy as np\n",
    "import sklearn\n",
    "from sklearn.linear_model import LogisticRegression\n"
   ]
  },
  {
   "cell_type": "code",
   "execution_count": 5,
   "metadata": {},
   "outputs": [
    {
     "name": "stdout",
     "output_type": "stream",
     "text": [
      "Index(['ThrowID', 'X2', 'GameID', 'throw_team_score', 'def_team_score',\n",
      "       'Score', 'point_per_game', 'poss_per_point', 'score_on_poss',\n",
      "       'Direction', 'throw_per_game', 'throw_per_point', 'throw_per_poss',\n",
      "       'throw_team', 'Thrower', 'receiver', 'hand_rl', 'throw_type',\n",
      "       'throw_curve', 'Force', 'Stall', 'completion', 'bad_throw',\n",
      "       'GEO_Xstart', 'GEO_Ystart', 'GEO_Xend', 'GEO_Yend', 'RO_Xstart',\n",
      "       'RO_Ystart', 'RO_Xend', 'RO_Yend', 'Xdist', 'Ydist', 'Dist', 'pull',\n",
      "       'goal'],\n",
      "      dtype='object')\n"
     ]
    },
    {
     "data": {
      "text/html": [
       "<div>\n",
       "<style scoped>\n",
       "    .dataframe tbody tr th:only-of-type {\n",
       "        vertical-align: middle;\n",
       "    }\n",
       "\n",
       "    .dataframe tbody tr th {\n",
       "        vertical-align: top;\n",
       "    }\n",
       "\n",
       "    .dataframe thead th {\n",
       "        text-align: right;\n",
       "    }\n",
       "</style>\n",
       "<table border=\"1\" class=\"dataframe\">\n",
       "  <thead>\n",
       "    <tr style=\"text-align: right;\">\n",
       "      <th></th>\n",
       "      <th>GEO_Xstart</th>\n",
       "      <th>GEO_Ystart</th>\n",
       "      <th>Xdist</th>\n",
       "      <th>Ydist</th>\n",
       "      <th>throw_type</th>\n",
       "      <th>completion</th>\n",
       "    </tr>\n",
       "  </thead>\n",
       "  <tbody>\n",
       "    <tr>\n",
       "      <th>0</th>\n",
       "      <td>-32.5</td>\n",
       "      <td>-10.5</td>\n",
       "      <td>8.0</td>\n",
       "      <td>0.0</td>\n",
       "      <td>BH</td>\n",
       "      <td>1.0</td>\n",
       "    </tr>\n",
       "    <tr>\n",
       "      <th>1</th>\n",
       "      <td>-24.5</td>\n",
       "      <td>-10.5</td>\n",
       "      <td>-1.0</td>\n",
       "      <td>16.0</td>\n",
       "      <td>BH</td>\n",
       "      <td>1.0</td>\n",
       "    </tr>\n",
       "    <tr>\n",
       "      <th>2</th>\n",
       "      <td>-25.5</td>\n",
       "      <td>5.5</td>\n",
       "      <td>7.0</td>\n",
       "      <td>9.0</td>\n",
       "      <td>BH</td>\n",
       "      <td>1.0</td>\n",
       "    </tr>\n",
       "    <tr>\n",
       "      <th>3</th>\n",
       "      <td>-18.5</td>\n",
       "      <td>14.5</td>\n",
       "      <td>14.0</td>\n",
       "      <td>4.0</td>\n",
       "      <td>BH</td>\n",
       "      <td>1.0</td>\n",
       "    </tr>\n",
       "    <tr>\n",
       "      <th>4</th>\n",
       "      <td>-4.5</td>\n",
       "      <td>18.5</td>\n",
       "      <td>-12.0</td>\n",
       "      <td>-4.0</td>\n",
       "      <td>F</td>\n",
       "      <td>1.0</td>\n",
       "    </tr>\n",
       "  </tbody>\n",
       "</table>\n",
       "</div>"
      ],
      "text/plain": [
       "   GEO_Xstart  GEO_Ystart  Xdist  Ydist throw_type  completion\n",
       "0       -32.5       -10.5    8.0    0.0         BH         1.0\n",
       "1       -24.5       -10.5   -1.0   16.0         BH         1.0\n",
       "2       -25.5         5.5    7.0    9.0         BH         1.0\n",
       "3       -18.5        14.5   14.0    4.0         BH         1.0\n",
       "4        -4.5        18.5  -12.0   -4.0          F         1.0"
      ]
     },
     "execution_count": 5,
     "metadata": {},
     "output_type": "execute_result"
    }
   ],
   "source": [
    "throws = pd.read_csv(\"../data/throws_clean.csv\")\n",
    "\n",
    "throw_analysis = throws[[\"GEO_Xstart\",\"GEO_Ystart\",\"Xdist\",\"Ydist\",\"throw_type\",\"completion\"]]\n",
    "print(throws.columns)\n",
    "throw_analysis.head()"
   ]
  },
  {
   "cell_type": "code",
   "execution_count": 6,
   "metadata": {},
   "outputs": [
    {
     "data": {
      "text/plain": [
       "0.9404587603709127"
      ]
     },
     "execution_count": 6,
     "metadata": {},
     "output_type": "execute_result"
    }
   ],
   "source": [
    "def split_data(data, train_share = 0.8, response_col = \"completion\"):\n",
    "    "
   ]
  }
 ],
 "metadata": {
  "kernelspec": {
   "display_name": "Python 3",
   "language": "python",
   "name": "python3"
  },
  "language_info": {
   "codemirror_mode": {
    "name": "ipython",
    "version": 3
   },
   "file_extension": ".py",
   "mimetype": "text/x-python",
   "name": "python",
   "nbconvert_exporter": "python",
   "pygments_lexer": "ipython3",
   "version": "3.7.1"
  }
 },
 "nbformat": 4,
 "nbformat_minor": 2
}
