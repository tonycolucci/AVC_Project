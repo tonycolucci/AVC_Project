{
 "cells": [
  {
   "cell_type": "code",
   "execution_count": 44,
   "metadata": {},
   "outputs": [],
   "source": [
    "import pandas as pd\n",
    "import numpy as np\n",
    "import sklearn\n",
    "from sklearn.linear_model import LogisticRegressionCV\n",
    "from sklearn.preprocessing import OneHotEncoder\n",
    "\n",
    "import pickle"
   ]
  },
  {
   "cell_type": "code",
   "execution_count": 45,
   "metadata": {},
   "outputs": [
    {
     "name": "stdout",
     "output_type": "stream",
     "text": [
      "Index(['ThrowID', 'X2', 'GameID', 'throw_team_score', 'def_team_score',\n",
      "       'Score', 'point_per_game', 'poss_per_point', 'score_on_poss',\n",
      "       'Direction', 'throw_per_game', 'throw_per_point', 'throw_per_poss',\n",
      "       'throw_team', 'Thrower', 'receiver', 'hand_rl', 'throw_type',\n",
      "       'throw_curve', 'Force', 'Stall', 'completion', 'bad_throw',\n",
      "       'GEO_Xstart', 'GEO_Ystart', 'GEO_Xend', 'GEO_Yend', 'RO_Xstart',\n",
      "       'RO_Ystart', 'RO_Xend', 'RO_Yend', 'Xdist', 'Ydist', 'Dist', 'pull',\n",
      "       'goal'],\n",
      "      dtype='object')\n"
     ]
    },
    {
     "data": {
      "text/plain": [
       "(2046, 4)"
      ]
     },
     "execution_count": 45,
     "metadata": {},
     "output_type": "execute_result"
    }
   ],
   "source": [
    "throws = pd.read_csv(\"../data/throws_clean.csv\")\n",
    "\n",
    "\n",
    "# print(throws.head())\n",
    "throw_types = pd.get_dummies(throws.throw_type).rename(columns = {\"BH\":\"backhand\",\"F\":\"forehand\",\"H\":\"hammer\"})\n",
    "print(throws.columns)\n",
    "throw_analysis = pd.concat([throws,throw_types], axis = 1)[[\"Xdist\",\"Ydist\",\"backhand\",\"forehand\",\"hammer\",\"completion\"]].dropna()\n",
    "\n",
    "throw_analysis = throws[[\"Xdist\",\"Ydist\",\"Stall\",\"completion\"]].dropna()\n",
    "throw_analysis[\"Ydist\"] = abs(throw_analysis[\"Ydist\"])\n",
    "# throws = pd.concat(throws)\n",
    "\n",
    "# print(throw_types)\n",
    "\n",
    "\n",
    "throw_analysis.shape"
   ]
  },
  {
   "cell_type": "code",
   "execution_count": 46,
   "metadata": {},
   "outputs": [
    {
     "name": "stdout",
     "output_type": "stream",
     "text": [
      "      completion\n",
      "83           1.0\n",
      "1621         1.0\n",
      "1243         1.0\n",
      "1579         1.0\n",
      "329          1.0\n",
      "      Xdist  Ydist  Stall\n",
      "83    -15.0    2.0    7.0\n",
      "1621   11.0   14.0    0.0\n",
      "1243    9.0   12.0    2.0\n",
      "1579   10.0   13.0    1.0\n",
      "329    20.0    6.0    3.0\n"
     ]
    }
   ],
   "source": [
    "def split_response(data, response_col = [\"completion\"], analysis_cols = [\"Xdist\",\"Ydist\",\"Stall\"]): #, train_share, random_state\n",
    "    \"\"\"\n",
    "    \"\"\"\n",
    "    features = data[analysis_cols]\n",
    "    response = data[response_col]\n",
    "    # X_train, X_test, y_train, y_test = sklearn.model_selection.train_test_split(feature_cols, response,\n",
    "    #                                                                             train_size=train_share,\n",
    "    #                                                                             random_state=random_state)\n",
    "\n",
    "    return features, response\n",
    "\n",
    "X_train, Y_train = split_data(throw_analysis)\n",
    "\n",
    "print(y_train.head())\n",
    "print(X_train.head())"
   ]
  },
  {
   "cell_type": "code",
   "execution_count": 47,
   "metadata": {},
   "outputs": [
    {
     "name": "stderr",
     "output_type": "stream",
     "text": [
      "C:\\Users\\tonyc\\Anaconda3\\lib\\site-packages\\sklearn\\utils\\validation.py:724: DataConversionWarning: A column-vector y was passed when a 1d array was expected. Please change the shape of y to (n_samples, ), for example using ravel().\n",
      "  y = column_or_1d(y, warn=True)\n"
     ]
    },
    {
     "name": "stdout",
     "output_type": "stream",
     "text": [
      "[[-0.04170647 -0.00220392 -0.00520637]]\n"
     ]
    },
    {
     "data": {
      "text/plain": [
       "array([0.0001])"
      ]
     },
     "execution_count": 47,
     "metadata": {},
     "output_type": "execute_result"
    }
   ],
   "source": [
    "def train_model(X_train, X_test, y_train, y_test):\n",
    "    logistic = LogisticRegressionCV(cv = 10).fit(X_train, y_train)\n",
    "    \n",
    "    \n",
    "    print(logistic.coef_)\n",
    "    \n",
    "    out = logistic.predict_proba(X_test)\n",
    "    return logistic\n",
    "\n",
    "model = train_model(X_train, X_test, y_train, y_test)\n"
   ]
  },
  {
   "cell_type": "code",
   "execution_count": 50,
   "metadata": {},
   "outputs": [
    {
     "data": {
      "text/html": [
       "<div>\n",
       "<style scoped>\n",
       "    .dataframe tbody tr th:only-of-type {\n",
       "        vertical-align: middle;\n",
       "    }\n",
       "\n",
       "    .dataframe tbody tr th {\n",
       "        vertical-align: top;\n",
       "    }\n",
       "\n",
       "    .dataframe thead th {\n",
       "        text-align: right;\n",
       "    }\n",
       "</style>\n",
       "<table border=\"1\" class=\"dataframe\">\n",
       "  <thead>\n",
       "    <tr style=\"text-align: right;\">\n",
       "      <th></th>\n",
       "      <th>Xdist</th>\n",
       "      <th>Ydist</th>\n",
       "      <th>Stall</th>\n",
       "      <th>completion</th>\n",
       "      <th>comp_perc</th>\n",
       "      <th>comp</th>\n",
       "      <th>correct</th>\n",
       "    </tr>\n",
       "  </thead>\n",
       "  <tbody>\n",
       "    <tr>\n",
       "      <th>0</th>\n",
       "      <td>8.0</td>\n",
       "      <td>0.0</td>\n",
       "      <td>0.0</td>\n",
       "      <td>1.0</td>\n",
       "      <td>0.979623</td>\n",
       "      <td>1</td>\n",
       "      <td>1</td>\n",
       "    </tr>\n",
       "    <tr>\n",
       "      <th>1</th>\n",
       "      <td>-1.0</td>\n",
       "      <td>16.0</td>\n",
       "      <td>4.0</td>\n",
       "      <td>1.0</td>\n",
       "      <td>0.942588</td>\n",
       "      <td>1</td>\n",
       "      <td>1</td>\n",
       "    </tr>\n",
       "    <tr>\n",
       "      <th>2</th>\n",
       "      <td>7.0</td>\n",
       "      <td>9.0</td>\n",
       "      <td>1.0</td>\n",
       "      <td>1.0</td>\n",
       "      <td>0.946636</td>\n",
       "      <td>1</td>\n",
       "      <td>1</td>\n",
       "    </tr>\n",
       "    <tr>\n",
       "      <th>3</th>\n",
       "      <td>14.0</td>\n",
       "      <td>4.0</td>\n",
       "      <td>1.0</td>\n",
       "      <td>1.0</td>\n",
       "      <td>0.944647</td>\n",
       "      <td>1</td>\n",
       "      <td>1</td>\n",
       "    </tr>\n",
       "    <tr>\n",
       "      <th>4</th>\n",
       "      <td>-12.0</td>\n",
       "      <td>4.0</td>\n",
       "      <td>2.0</td>\n",
       "      <td>1.0</td>\n",
       "      <td>0.918716</td>\n",
       "      <td>1</td>\n",
       "      <td>1</td>\n",
       "    </tr>\n",
       "  </tbody>\n",
       "</table>\n",
       "</div>"
      ],
      "text/plain": [
       "   Xdist  Ydist  Stall  completion  comp_perc  comp  correct\n",
       "0    8.0    0.0    0.0         1.0   0.979623     1        1\n",
       "1   -1.0   16.0    4.0         1.0   0.942588     1        1\n",
       "2    7.0    9.0    1.0         1.0   0.946636     1        1\n",
       "3   14.0    4.0    1.0         1.0   0.944647     1        1\n",
       "4  -12.0    4.0    2.0         1.0   0.918716     1        1"
      ]
     },
     "execution_count": 50,
     "metadata": {},
     "output_type": "execute_result"
    }
   ],
   "source": [
    "# user_input = pd.DataFrame(data={ \"Xdist\":[30.0], \"Ydist\":[-5.0], \"Stall\":[4]})\n",
    "\n",
    "complete = pd.Series(model.predict_proba(X_train)[:,1], name=\"comp_perc\")\n",
    "# complete = \n",
    "preds = pd.concat([throw_analysis, complete], axis = 1)\n",
    "\n",
    "preds[\"comp\"] = (preds.comp_perc > 0.9).astype(int)\n",
    "preds[\"correct\"] = (preds.comp == preds.completion).astype(int)\n",
    "\n",
    "from sklearn.metrics import confusion_matrix\n",
    "preds.head()\n",
    "# confusion_matrix(preds.comp, preds.completion)"
   ]
  }
 ],
 "metadata": {
  "kernelspec": {
   "display_name": "Python 3",
   "language": "python",
   "name": "python3"
  },
  "language_info": {
   "codemirror_mode": {
    "name": "ipython",
    "version": 3
   },
   "file_extension": ".py",
   "mimetype": "text/x-python",
   "name": "python",
   "nbconvert_exporter": "python",
   "pygments_lexer": "ipython3",
   "version": "3.7.1"
  }
 },
 "nbformat": 4,
 "nbformat_minor": 2
}
